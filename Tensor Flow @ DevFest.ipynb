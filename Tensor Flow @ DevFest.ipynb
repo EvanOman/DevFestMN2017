{
 "cells": [
  {
   "cell_type": "markdown",
   "metadata": {},
   "source": [
    "# TensorFlow Workshop 2/4/2017\n",
    "## Speaker: Raghu Rajah, DataDigital.io\n",
    "\n",
    "### Description: \n",
    ">The objective of the lab is to introduce attendees to machine learning and TensorFlow programming using Python. No prior experience with Python or Machine Learning is assumed, although some programming experience in any language would be helpful. We will start with refreshing some basics in linear algebra and statistics. We will then quickly review what TensorFlow is, the TensorFlow programming model, and code some basics machine learning algorithms in TensorFlow. **Please bring a laptop to this code lab. Also, install TensorFlow 0.11 on Docker (instructions: https://www.tensorflow.org/get_started/os_setup#docker_installation)."
   ]
  },
  {
   "cell_type": "code",
   "execution_count": 1,
   "metadata": {
    "collapsed": true
   },
   "outputs": [],
   "source": [
    "import tensorflow as tf"
   ]
  },
  {
   "cell_type": "code",
   "execution_count": 9,
   "metadata": {
    "collapsed": true
   },
   "outputs": [],
   "source": [
    "hello = tf.constant([[1, 2, 3], [4, 5, 6], [7, 8, 9]])"
   ]
  },
  {
   "cell_type": "code",
   "execution_count": 39,
   "metadata": {
    "collapsed": true
   },
   "outputs": [],
   "source": [
    "sess = tf.Session()"
   ]
  },
  {
   "cell_type": "code",
   "execution_count": 40,
   "metadata": {
    "collapsed": false
   },
   "outputs": [
    {
     "data": {
      "text/plain": [
       "array([[2],\n",
       "       [5],\n",
       "       [8]], dtype=int32)"
      ]
     },
     "execution_count": 40,
     "metadata": {},
     "output_type": "execute_result"
    }
   ],
   "source": [
    "sess.run(tf.transpose(tf.gather(tf.transpose(hello), tf.range(1,2))))"
   ]
  },
  {
   "cell_type": "markdown",
   "metadata": {},
   "source": [
    "### Make our first execution graph"
   ]
  },
  {
   "cell_type": "code",
   "execution_count": 41,
   "metadata": {
    "collapsed": true
   },
   "outputs": [],
   "source": [
    "a = tf.random_uniform([5,5])\n",
    "b = tf.random_uniform([5,5])\n",
    "c = tf.matmul(a,b)"
   ]
  },
  {
   "cell_type": "code",
   "execution_count": 42,
   "metadata": {
    "collapsed": false
   },
   "outputs": [],
   "source": [
    "a = sess.run(c)"
   ]
  },
  {
   "cell_type": "code",
   "execution_count": 43,
   "metadata": {
    "collapsed": false
   },
   "outputs": [
    {
     "data": {
      "text/plain": [
       "array([[ 1.71821737,  2.01720667,  1.56136405,  1.00542319,  0.58998203],\n",
       "       [ 1.36000121,  1.81619072,  1.28145432,  0.53352749,  0.49752089],\n",
       "       [ 0.87655884,  1.54827309,  0.79011118,  0.82990181,  0.56916785],\n",
       "       [ 0.92803049,  1.64017928,  0.78331292,  1.20171821,  0.69121003],\n",
       "       [ 1.15215063,  1.60893774,  1.12215817,  0.48770118,  0.54047239]], dtype=float32)"
      ]
     },
     "execution_count": 43,
     "metadata": {},
     "output_type": "execute_result"
    }
   ],
   "source": [
    "a"
   ]
  },
  {
   "cell_type": "markdown",
   "metadata": {},
   "source": [
    "### Lazy Eval\n",
    "- TF works a lot like Spark in that writing code generates an execution graph which will be run by `sess.run`\n",
    "\n",
    "### Execution Graph\n",
    "- Nodes can be\n",
    "    - Data nodes\n",
    "    - Operations\n",
    "    - Summaries\n",
    "- Edges show the computational flow"
   ]
  },
  {
   "cell_type": "markdown",
   "metadata": {},
   "source": [
    "$\\displaystyle \\sum^n_i \\omega_i = 1$"
   ]
  },
  {
   "cell_type": "markdown",
   "metadata": {},
   "source": [
    "### TensorBoard\n",
    "TF has a visualization tool called TensorBoard which works by reading a log file (which we need to write to directly)"
   ]
  },
  {
   "cell_type": "code",
   "execution_count": 45,
   "metadata": {
    "collapsed": true
   },
   "outputs": [],
   "source": [
    "writer = tf.summary.FileWriter('logs', sess.graph)"
   ]
  },
  {
   "cell_type": "markdown",
   "metadata": {},
   "source": [
    "### Distributed Execution\n",
    "- Outlined in TF paper\n",
    "- Exec graph is executed by session. Session can distribute this graph to a single node w/ multiple core or even multiple nodes with multiple cores\n",
    "\n",
    "### Partial Exec\n",
    "- Not all of the graph is necessarily executed, TF finds the relevant parts\n",
    "\n",
    "### [TensorFrames](https://github.com/databricks/tensorframes)\n",
    "- Spark - TF crossover. Raghu said they were able to use it for their app but it is cutting edge (like all of ML) so they have to edit it themselves. \n"
   ]
  },
  {
   "cell_type": "code",
   "execution_count": null,
   "metadata": {
    "collapsed": true
   },
   "outputs": [],
   "source": []
  }
 ],
 "metadata": {
  "kernelspec": {
   "display_name": "Python 3",
   "language": "python",
   "name": "python3"
  },
  "language_info": {
   "codemirror_mode": {
    "name": "ipython",
    "version": 3
   },
   "file_extension": ".py",
   "mimetype": "text/x-python",
   "name": "python",
   "nbconvert_exporter": "python",
   "pygments_lexer": "ipython3",
   "version": "3.4.5"
  }
 },
 "nbformat": 4,
 "nbformat_minor": 0
}
