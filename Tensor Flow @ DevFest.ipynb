{
 "cells": [
  {
   "cell_type": "markdown",
   "metadata": {},
   "source": [
    "# TensorFlow Workshop 2/4/2017\n",
    "## Speaker: Raghu Rajah, DataDigital.io\n",
    "\n",
    "### Description: \n",
    ">The objective of the lab is to introduce attendees to machine learning and TensorFlow programming using Python. No prior experience with Python or Machine Learning is assumed, although some programming experience in any language would be helpful. We will start with refreshing some basics in linear algebra and statistics. We will then quickly review what TensorFlow is, the TensorFlow programming model, and code some basics machine learning algorithms in TensorFlow. **Please bring a laptop to this code lab. Also, install TensorFlow 0.11 on Docker (instructions: https://www.tensorflow.org/get_started/os_setup#docker_installation)."
   ]
  },
  {
   "cell_type": "markdown",
   "metadata": {},
   "source": [
    "## TensorFlow Intro"
   ]
  },
  {
   "cell_type": "code",
   "execution_count": 1,
   "metadata": {
    "collapsed": true
   },
   "outputs": [],
   "source": [
    "import tensorflow as tf"
   ]
  },
  {
   "cell_type": "code",
   "execution_count": 9,
   "metadata": {
    "collapsed": true
   },
   "outputs": [],
   "source": [
    "hello = tf.constant([[1, 2, 3], [4, 5, 6], [7, 8, 9]])"
   ]
  },
  {
   "cell_type": "code",
   "execution_count": 39,
   "metadata": {
    "collapsed": true
   },
   "outputs": [],
   "source": [
    "sess = tf.Session()"
   ]
  },
  {
   "cell_type": "code",
   "execution_count": 40,
   "metadata": {
    "collapsed": false
   },
   "outputs": [
    {
     "data": {
      "text/plain": [
       "array([[2],\n",
       "       [5],\n",
       "       [8]], dtype=int32)"
      ]
     },
     "execution_count": 40,
     "metadata": {},
     "output_type": "execute_result"
    }
   ],
   "source": [
    "sess.run(tf.transpose(tf.gather(tf.transpose(hello), tf.range(1,2))))"
   ]
  },
  {
   "cell_type": "markdown",
   "metadata": {},
   "source": [
    "### Make our first execution graph"
   ]
  },
  {
   "cell_type": "code",
   "execution_count": 41,
   "metadata": {
    "collapsed": true
   },
   "outputs": [],
   "source": [
    "a = tf.random_uniform([5,5])\n",
    "b = tf.random_uniform([5,5])\n",
    "c = tf.matmul(a,b)"
   ]
  },
  {
   "cell_type": "code",
   "execution_count": 42,
   "metadata": {
    "collapsed": false
   },
   "outputs": [],
   "source": [
    "a = sess.run(c)"
   ]
  },
  {
   "cell_type": "code",
   "execution_count": 43,
   "metadata": {
    "collapsed": false
   },
   "outputs": [
    {
     "data": {
      "text/plain": [
       "array([[ 1.71821737,  2.01720667,  1.56136405,  1.00542319,  0.58998203],\n",
       "       [ 1.36000121,  1.81619072,  1.28145432,  0.53352749,  0.49752089],\n",
       "       [ 0.87655884,  1.54827309,  0.79011118,  0.82990181,  0.56916785],\n",
       "       [ 0.92803049,  1.64017928,  0.78331292,  1.20171821,  0.69121003],\n",
       "       [ 1.15215063,  1.60893774,  1.12215817,  0.48770118,  0.54047239]], dtype=float32)"
      ]
     },
     "execution_count": 43,
     "metadata": {},
     "output_type": "execute_result"
    }
   ],
   "source": [
    "a"
   ]
  },
  {
   "cell_type": "markdown",
   "metadata": {},
   "source": [
    "### Lazy Eval\n",
    "- TF works a lot like Spark in that writing code generates an execution graph which will be run by `sess.run`\n",
    "\n",
    "### Execution Graph\n",
    "- Nodes can be\n",
    "    - Data nodes\n",
    "    - Operations\n",
    "    - Summaries\n",
    "- Edges show the computational flow"
   ]
  },
  {
   "cell_type": "markdown",
   "metadata": {},
   "source": [
    "### TensorBoard\n",
    "TF has a visualization tool called TensorBoard which works by reading a log file (which we need to write to directly)\n",
    "\n",
    "![TensorBoard Screenshot](img/TensorBoard.png)"
   ]
  },
  {
   "cell_type": "markdown",
   "metadata": {},
   "source": [
    "We make a `writer` object and write `sess.graph` to our log file."
   ]
  },
  {
   "cell_type": "code",
   "execution_count": 45,
   "metadata": {
    "collapsed": true
   },
   "outputs": [],
   "source": [
    "writer = tf.summary.FileWriter('logs', sess.graph)"
   ]
  },
  {
   "cell_type": "markdown",
   "metadata": {},
   "source": [
    "### Distributed Execution\n",
    "- Outlined in TF paper\n",
    "- Exec graph is executed by session. Session can distribute this graph to a single node w/ multiple core or even multiple nodes with multiple cores\n",
    "\n",
    "### Partial Exec\n",
    "- Not all of the graph is necessarily executed, TF finds the minimal subset of execution steps to create the desired output\n",
    "\n",
    "### [TensorFrames](https://github.com/databricks/tensorframes)\n",
    "- Spark - TF crossover. Raghu said they were able to use it for their app but it is cutting edge (like all of ML) so they have to edit it themselves. \n",
    "\n"
   ]
  },
  {
   "cell_type": "markdown",
   "metadata": {},
   "source": [
    "## Machine Learning\n",
    "- Great summary: \"ML is taking in data and trying to model a target function\"\n",
    "    - \"Target Function\" can be Hotel pricing, image recognition, driving decisions\n",
    "    - Data can be anything to drive the above functions: current market conditions, input images, vehicles speed, traffic conditions, etc.\n",
    "- Good summary provided at [R2D3](http://www.r2d3.us/visual-intro-to-machine-learning-part-1/)\n",
    "\n",
    "### Overfitting\n",
    "- You can fit the training data perfectly but it will not generalize well\n",
    "\n",
    "### High Dimensionality\n",
    "- ML happens in many, many dimensions (almost always more than 3, could be hundreds)\n",
    "- Visualizing and processing this data is *hard*\n",
    "\n",
    "### Distributed\n",
    "- Data is often too big to be centrally located, needs to be spread accross many machines\n",
    "\n",
    "### ML 5 Approaches (from Pedro Domingo's [Master Algorithm](https://en.wikipedia.org/wiki/The_Master_Algorithm))\n",
    "1. Bayesian Inference: $P(A|B) = \\displaystyle \\frac{P(B|A)P(A)}{P(B)}$\n",
    "2. Kernel Machines: reccomender systems, collaborative filtering, clustering\n",
    "3. Neural Networks: face recognition, fraud detection, computer vision, speech recognition, NLP\n",
    "4. Reverse Induction: genetics\n",
    "5. Genetic Programming: robotics\n",
    "\n",
    "### Popular ML Algorithms\n",
    "- Linear Regression\n",
    "- Logistic Regression\n",
    "- Random Forest\n",
    "- Collaborative Filtering\n",
    "- Support Vector Machine\n",
    "- Deep Learning\n",
    "    - Convolutional Neural Networks\n",
    "    - Recurrent Neural Networks\n",
    "    - LSTM\n",
    "- Ensemble Learning\n",
    "\n",
    "### ML Reccomendation\n",
    "- Andrew Ng Coursera Course\n",
    "- Machine Learning: A Probabilistic Approach"
   ]
  },
  {
   "cell_type": "markdown",
   "metadata": {},
   "source": [
    "## Linear Regression TF  Demo"
   ]
  },
  {
   "cell_type": "code",
   "execution_count": 67,
   "metadata": {
    "collapsed": true
   },
   "outputs": [],
   "source": [
    "import tensorflow as tf\n",
    "import numpy as np"
   ]
  },
  {
   "cell_type": "markdown",
   "metadata": {},
   "source": [
    "#### Create Synthetic Data: Four Features\n",
    "\n",
    "Simulate data according to:\n",
    "\n",
    "$y = x_1 + 2x_2 + 3x_3 + 4x_4$"
   ]
  },
  {
   "cell_type": "code",
   "execution_count": 68,
   "metadata": {
    "collapsed": false
   },
   "outputs": [],
   "source": [
    "a = np.array([1,2,3,4],dtype=np.float32)\n",
    "XX = np.random.rand(10000, 4)\n",
    "yy = np.dot(XX, a.transpose())"
   ]
  },
  {
   "cell_type": "markdown",
   "metadata": {},
   "source": [
    "#### Build out the algorithm"
   ]
  },
  {
   "cell_type": "code",
   "execution_count": 71,
   "metadata": {
    "collapsed": false
   },
   "outputs": [
    {
     "name": "stdout",
     "output_type": "stream",
     "text": [
      "[[ 2.28847265]\n",
      " [ 2.23842406]\n",
      " [ 2.26711798]\n",
      " [ 2.43902564]]\n"
     ]
    }
   ],
   "source": [
    "# Creates a graph.\n",
    "config = tf.ConfigProto(allow_soft_placement=True)\n",
    "with tf.device('/gpu:0'):\n",
    "    X = tf.placeholder(tf.float32)\n",
    "    y = tf.placeholder(tf.float32)\n",
    "\n",
    "    # our model\n",
    "    weights = tf.Variable(tf.random_uniform([4,1]))\n",
    "\n",
    "    # Predictor\n",
    "    pred = tf.matmul(X, weights)\n",
    "\n",
    "    # Cost function\n",
    "    cost = tf.reduce_mean(tf.square(tf.sub(pred,y)))\n",
    "\n",
    "    # Gradient function\n",
    "    grads = tf.gradients(cost, [weights])\n",
    "\n",
    "    step = tf.constant(1e-1)\n",
    "\n",
    "    train = tf.assign_add(weights, tf.mul(-step, grads[0]))\n",
    "\n",
    "    with tf.Session(config= config) as sess:\n",
    "        sess.run(tf.global_variables_initializer())\n",
    "\n",
    "        for i in range(100):\n",
    "            sess.run(train, feed_dict={X: XX, y: yy})\n",
    "\n",
    "        print(sess.run(weights))\n",
    "\n",
    "        # write to log\n",
    "        writer = tf.summary.FileWriter('logs', sess.graph)"
   ]
  },
  {
   "cell_type": "code",
   "execution_count": null,
   "metadata": {
    "collapsed": true
   },
   "outputs": [],
   "source": []
  }
 ],
 "metadata": {
  "kernelspec": {
   "display_name": "Python 3",
   "language": "python",
   "name": "python3"
  },
  "language_info": {
   "codemirror_mode": {
    "name": "ipython",
    "version": 3
   },
   "file_extension": ".py",
   "mimetype": "text/x-python",
   "name": "python",
   "nbconvert_exporter": "python",
   "pygments_lexer": "ipython3",
   "version": "3.4.5"
  }
 },
 "nbformat": 4,
 "nbformat_minor": 0
}
