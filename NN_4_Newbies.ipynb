{
 "cells": [
  {
   "cell_type": "markdown",
   "metadata": {},
   "source": [
    "# Neural Network for Newbies 2/4/2017\n",
    "\n",
    "## Speaker: Theo Kanning, The Nerdery\n",
    "\n",
    "> Neural Networks are a fascinating machine learning tool, but how do they work? The answer is beautifully simple. This is a complete beginner's introduction to Neural Networks, starting with a single artificial neuron and working up to simple TensorFlow models. By the end, you'll be ready to try them on your own!"
   ]
  },
  {
   "cell_type": "code",
   "execution_count": 2,
   "metadata": {
    "collapsed": true
   },
   "outputs": [],
   "source": [
    "import tensorflow as tf\n",
    "import numpy as np"
   ]
  },
  {
   "cell_type": "code",
   "execution_count": 3,
   "metadata": {
    "collapsed": false
   },
   "outputs": [
    {
     "name": "stdout",
     "output_type": "stream",
     "text": [
      "WARNING:tensorflow:From <ipython-input-3-c656d60a98e3>:26 in <module>.: initialize_all_variables (from tensorflow.python.ops.variables) is deprecated and will be removed after 2017-03-02.\n",
      "Instructions for updating:\n",
      "Use `tf.global_variables_initializer` instead.\n",
      "step 0, training cost 0.122372\n",
      "step 50, training cost 0.116442\n",
      "step 100, training cost 0.111329\n",
      "step 150, training cost 0.106885\n",
      "step 200, training cost 0.102986\n",
      "step 500, training cost 0.0864646\n",
      "step 1000, training cost 0.069571\n",
      "step 2000, training cost 0.0490117\n",
      "step 5000, training cost 0.0234666\n",
      "step 10000, training cost 0.00995293\n"
     ]
    }
   ],
   "source": [
    "training_inputs = [[1, 0, 0],\n",
    "                   [1, 0, 1],\n",
    "                   [1, 1, 0],\n",
    "                   [0, 1, 0]]\n",
    "\n",
    "training_outputs = [[.9],\n",
    "                    [.1],\n",
    "                    [.9],\n",
    "                    [.6]]\n",
    "\n",
    "x = tf.placeholder(tf.float32, [None, 3])\n",
    "y_ = tf.placeholder(tf.float32, [None, 1])\n",
    "\n",
    "W = tf.Variable(tf.zeros([3, 1]))\n",
    "b = tf.Variable(tf.zeros([1]))\n",
    "y = tf.sigmoid(tf.matmul(x, W) + b)\n",
    "\n",
    "errors = tf.sub(y_, y)\n",
    "cost = tf.reduce_mean(tf.square(errors))\n",
    "\n",
    "train_step = tf.train.GradientDescentOptimizer(0.01).minimize(cost)\n",
    "\n",
    "print_weights = tf.Print(W, [W], message=\"Current Weights: \")\n",
    "print_bias = tf.Print(b, [b], message=\"Current Bias: \")\n",
    "\n",
    "init = tf.initialize_all_variables()\n",
    "sess = tf.Session()\n",
    "sess.run(init)\n",
    "\n",
    "for i in range(10001):\n",
    "    sess.run(train_step, feed_dict={x: training_inputs, y_: training_outputs})\n",
    "\n",
    "    if i in [0, 50, 100, 150, 200, 500, 1000, 2000, 5000, 10000]:\n",
    "        train_cost = sess.run(cost, feed_dict={x: training_inputs, y_: training_outputs})\n",
    "        print(\"step %d, training cost %g\" % (i, train_cost))\n",
    "\n",
    "        output = sess.run(print_weights)\n",
    "        output = sess.run(print_bias)"
   ]
  }
 ],
 "metadata": {
  "kernelspec": {
   "display_name": "Python 3",
   "language": "python",
   "name": "python3"
  },
  "language_info": {
   "codemirror_mode": {
    "name": "ipython",
    "version": 3
   },
   "file_extension": ".py",
   "mimetype": "text/x-python",
   "name": "python",
   "nbconvert_exporter": "python",
   "pygments_lexer": "ipython3",
   "version": "3.4.5"
  }
 },
 "nbformat": 4,
 "nbformat_minor": 0
}
